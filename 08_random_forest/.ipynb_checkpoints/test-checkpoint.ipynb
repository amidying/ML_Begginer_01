{
 "cells": [
  {
   "cell_type": "markdown",
   "id": "da7a0b85-fc6f-44d8-8460-3bc689afc04a",
   "metadata": {},
   "source": [
    "# Random Forest Classifier \n",
    "Practice from sklear doc"
   ]
  },
  {
   "cell_type": "code",
   "execution_count": 1,
   "id": "214045c4-dba9-4ee2-a30c-232ba730cd09",
   "metadata": {
    "tags": []
   },
   "outputs": [],
   "source": [
    "from sklearn.model_selection import cross_val_score"
   ]
  },
  {
   "cell_type": "code",
   "execution_count": null,
   "id": "4574fbd5-df47-467a-9092-8e0579bb5c6b",
   "metadata": {},
   "outputs": [],
   "source": []
  }
 ],
 "metadata": {
  "kernelspec": {
   "display_name": "Python 3 (ipykernel)",
   "language": "python",
   "name": "python3"
  },
  "language_info": {
   "codemirror_mode": {
    "name": "ipython",
    "version": 3
   },
   "file_extension": ".py",
   "mimetype": "text/x-python",
   "name": "python",
   "nbconvert_exporter": "python",
   "pygments_lexer": "ipython3",
   "version": "3.11.2"
  }
 },
 "nbformat": 4,
 "nbformat_minor": 5
}
